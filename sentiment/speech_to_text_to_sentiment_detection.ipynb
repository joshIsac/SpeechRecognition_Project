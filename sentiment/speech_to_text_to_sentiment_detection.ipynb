{
 "cells": [
  {
   "cell_type": "code",
   "execution_count": 10,
   "metadata": {},
   "outputs": [
    {
     "name": "stderr",
     "output_type": "stream",
     "text": [
      "c:\\Users\\JOSHWIN ISAC\\AppData\\Local\\Programs\\Python\\Python311\\Lib\\site-packages\\pydub\\utils.py:170: RuntimeWarning: Couldn't find ffmpeg or avconv - defaulting to ffmpeg, but may not work\n",
      "  warn(\"Couldn't find ffmpeg or avconv - defaulting to ffmpeg, but may not work\", RuntimeWarning)\n"
     ]
    }
   ],
   "source": [
    "import speech_recognition as sr\n",
    "import time\n",
    "import wave\n",
    "from transformers import pipeline\n",
    "from pydub import AudioSegment\n",
    "from pydub.playback import play\n"
   ]
  },
  {
   "cell_type": "code",
   "execution_count": 11,
   "metadata": {},
   "outputs": [
    {
     "name": "stderr",
     "output_type": "stream",
     "text": [
      "No model was supplied, defaulted to distilbert/distilbert-base-uncased-finetuned-sst-2-english and revision af0f99b (https://huggingface.co/distilbert/distilbert-base-uncased-finetuned-sst-2-english).\n",
      "Using a pipeline without specifying a model name and revision in production is not recommended.\n",
      "Hardware accelerator e.g. GPU is available in the environment, but no `device` argument is passed to the `Pipeline` object. Model will be on CPU.\n"
     ]
    }
   ],
   "source": [
    "# Initialize sentiment analysis model\n",
    "sentiment_analyzer = pipeline(\"sentiment-analysis\")"
   ]
  },
  {
   "cell_type": "code",
   "execution_count": 12,
   "metadata": {},
   "outputs": [],
   "source": [
    "def recognize_speech(audio_filename=\"recorded_audio.wav\"):\n",
    "    recognizer=sr.Recognizer()\n",
    "\n",
    "    \n",
    "    # Open the microphone and listen for audio\n",
    "    with sr.Microphone() as source:\n",
    "        print(\"Listening for speech...\")\n",
    "        audio = recognizer.listen(source)\n",
    "        print(\"Recording completed.\")\n",
    "\n",
    "        # Save the audio to a file\n",
    "        with open(audio_filename, \"wb\") as file:\n",
    "            file.write(audio.get_wav_data())\n",
    "        \n",
    "        try:\n",
    "            print(\"Recognizing speech...\")\n",
    "            text = recognizer.recognize_google(audio)\n",
    "            print(f\"Recognized Text: {text}\")\n",
    "            return text, audio_filename\n",
    "        except sr.UnknownValueError:\n",
    "            print(\"Google Speech Recognition could not understand the audio\")\n",
    "        except sr.RequestError as e:\n",
    "            print(f\"Could not request results from Google Speech Recognition service; {e}\")\n",
    "        return None, None\n",
    "        "
   ]
  },
  {
   "cell_type": "code",
   "execution_count": 13,
   "metadata": {},
   "outputs": [],
   "source": [
    "import re\n",
    "\n",
    "def preprocess_text(text):\n",
    "    # Remove special characters and digits\n",
    "    text = re.sub(r'[^A-Za-z\\s]', '', text)\n",
    "    text = text.lower().strip()  # Lowercasing and trimming extra spaces\n",
    "    return text\n"
   ]
  },
  {
   "cell_type": "code",
   "execution_count": 14,
   "metadata": {},
   "outputs": [
    {
     "name": "stderr",
     "output_type": "stream",
     "text": [
      "No model was supplied, defaulted to distilbert/distilbert-base-uncased-finetuned-sst-2-english and revision af0f99b (https://huggingface.co/distilbert/distilbert-base-uncased-finetuned-sst-2-english).\n",
      "Using a pipeline without specifying a model name and revision in production is not recommended.\n",
      "c:\\Users\\JOSHWIN ISAC\\AppData\\Local\\Programs\\Python\\Python311\\Lib\\site-packages\\transformers\\tokenization_utils_base.py:1601: FutureWarning: `clean_up_tokenization_spaces` was not set. It will be set to `True` by default. This behavior will be depracted in transformers v4.45, and will be then set to `False` by default. For more details check this issue: https://github.com/huggingface/transformers/issues/31884\n",
      "  warnings.warn(\n",
      "Hardware accelerator e.g. GPU is available in the environment, but no `device` argument is passed to the `Pipeline` object. Model will be on CPU.\n"
     ]
    }
   ],
   "source": [
    "from transformers import pipeline\n",
    "\n",
    "# Load pre-trained sentiment-analysis model\n",
    "sentiment_analyzer = pipeline(\"sentiment-analysis\")\n",
    "\n",
    "def analyze_sentiment(text):\n",
    "    sentiment = sentiment_analyzer(text)\n",
    "    label = sentiment[0]['label']\n",
    "    score = sentiment[0]['score']\n",
    "    return label, score\n"
   ]
  },
  {
   "cell_type": "code",
   "execution_count": 15,
   "metadata": {},
   "outputs": [],
   "source": [
    "def play_audio(filename):\n",
    "    # Load and play the audio file\n",
    "    audio = AudioSegment.from_file(filename)\n",
    "    play(audio)"
   ]
  },
  {
   "cell_type": "code",
   "execution_count": 17,
   "metadata": {},
   "outputs": [
    {
     "name": "stdout",
     "output_type": "stream",
     "text": [
      "Listening for speech...\n",
      "Recording completed.\n",
      "Recognizing speech...\n",
      "Recognized Text: I am sorry\n",
      "Sentiment: NEGATIVE with score: 1.00\n",
      "Consider adjusting your tone for a more positive message.\n",
      "Playing the recorded audio...\n"
     ]
    }
   ],
   "source": [
    "def main():\n",
    "    # Step 1: Record Audio and Save It\n",
    "    recognized_text, audio_filename = recognize_speech()\n",
    "\n",
    "    if recognized_text:\n",
    "        # Step 2: Preprocess Text\n",
    "        processed_text = preprocess_text(recognized_text)\n",
    "\n",
    "        # Step 3: Analyze Sentiment\n",
    "        sentiment, score = analyze_sentiment(processed_text)\n",
    "        print(f\"Sentiment: {sentiment} with score: {score:.2f}\")\n",
    "\n",
    "        # Provide feedback based on sentiment\n",
    "        if sentiment == 'POSITIVE':\n",
    "            print(\"Good job! Keep up the positive tone!\")\n",
    "        elif sentiment == 'NEGATIVE':\n",
    "            print(\"Consider adjusting your tone for a more positive message.\")\n",
    "        else:\n",
    "            print(\"Neutral tone detected. Try adding more expression.\")\n",
    "\n",
    "        # Step 4: Play the Recorded Audio\n",
    "        print(\"Playing the recorded audio...\")\n",
    "        play_audio(audio_filename)\n",
    "    else:\n",
    "        print(\"No recognizable text detected. Please try again.\")\n",
    "\n",
    "if __name__ == \"__main__\":\n",
    "    main()\n"
   ]
  },
  {
   "cell_type": "code",
   "execution_count": null,
   "metadata": {},
   "outputs": [],
   "source": []
  }
 ],
 "metadata": {
  "kernelspec": {
   "display_name": "Python 3",
   "language": "python",
   "name": "python3"
  },
  "language_info": {
   "codemirror_mode": {
    "name": "ipython",
    "version": 3
   },
   "file_extension": ".py",
   "mimetype": "text/x-python",
   "name": "python",
   "nbconvert_exporter": "python",
   "pygments_lexer": "ipython3",
   "version": "3.11.8"
  }
 },
 "nbformat": 4,
 "nbformat_minor": 2
}
